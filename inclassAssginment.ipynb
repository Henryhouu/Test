{
  "nbformat": 4,
  "nbformat_minor": 0,
  "metadata": {
    "colab": {
      "provenance": [],
      "authorship_tag": "ABX9TyP4+g4SLZ784V9NMXfLvbaT",
      "include_colab_link": true
    },
    "kernelspec": {
      "name": "python3",
      "display_name": "Python 3"
    },
    "language_info": {
      "name": "python"
    }
  },
  "cells": [
    {
      "cell_type": "markdown",
      "metadata": {
        "id": "view-in-github",
        "colab_type": "text"
      },
      "source": [
        "<a href=\"https://colab.research.google.com/github/Henryhouu/Test/blob/main/inclassAssginment.ipynb\" target=\"_parent\"><img src=\"https://colab.research.google.com/assets/colab-badge.svg\" alt=\"Open In Colab\"/></a>"
      ]
    },
    {
      "cell_type": "code",
      "execution_count": null,
      "metadata": {
        "colab": {
          "base_uri": "https://localhost:8080/"
        },
        "id": "YxOq6_1Io-Ff",
        "outputId": "24f53ec8-9f1b-49a7-8ad0-4d91ea2d3949"
      },
      "outputs": [
        {
          "output_type": "stream",
          "name": "stdout",
          "text": [
            "please provide the radius: 9\n",
            "please provide the height: 9\n",
            "Area of cylinder: 1017.36 sq.ft\n"
          ]
        }
      ],
      "source": [
        "R = float(input('please provide the radius: '))\n",
        "h = float(input('please provide the height: '))\n",
        "π = 3.14\n",
        "A = 2*π*R**2 + 2*π*R*h\n",
        "print(f\"Area of cylinder: {A} sq.ft\")"
      ]
    },
    {
      "cell_type": "code",
      "source": [
        "n1 = float(input('Put in your number n1: '))\n",
        "n2 = float(input('Put in your number n2: '))\n",
        "symbol = input('Put a symbol btween two number: ')\n",
        "\n",
        "if symbol == '+':\n",
        "\tprint(f'{n1} + {n2} = {n1 + n2}')\n",
        "elif symbol == '-':\n",
        "\tprint(f'{n1} - {n2} = {n1 - n2}')\n",
        "elif symbol == '*:':\n",
        "\tprint(f'{n1} * {n2} = {n1 * n2}')\n",
        "elif symbbol == '//':\n",
        "\tprint(f'{n1} // {n2} = {n1 // n2}')\n",
        "elif symbol == '**':\n",
        "\tprint(f'{n1} ** {n2} = {n1 ** n2}')\n",
        "elif symbbol == '%':\n",
        "\tprint(f'{n1} % {n2} = {n1 % n2}')\n",
        "else:\n",
        "\tprint('invalid symbol')\n"
      ],
      "metadata": {
        "colab": {
          "base_uri": "https://localhost:8080/"
        },
        "id": "z3ll5DxNEU4B",
        "outputId": "9a5a7873-03e4-4759-a506-83b8b1a8afb6"
      },
      "execution_count": null,
      "outputs": [
        {
          "output_type": "stream",
          "name": "stdout",
          "text": [
            "Put in your number n1: 8\n",
            "Put in your number n2: 8\n",
            "Put a symbol btween two number: -\n",
            "8.0 - 8.0 = 0.0\n"
          ]
        }
      ]
    },
    {
      "cell_type": "code",
      "source": [
        "for numberHours in range(1,9):\n",
        "    fee = 5 + 2.5 * numberHours\n",
        "    if fee < 10:\n",
        "      fee = 10.0\n",
        "    elif fee > 20 :\n",
        "        fee = 20.0\n",
        "    print(numberHours, fee)"
      ],
      "metadata": {
        "colab": {
          "base_uri": "https://localhost:8080/"
        },
        "id": "mIW19XoiXnL_",
        "outputId": "e4e2e8d8-1b40-420c-84eb-a9fc54644bd8"
      },
      "execution_count": null,
      "outputs": [
        {
          "output_type": "stream",
          "name": "stdout",
          "text": [
            "1 10.0\n",
            "2 10.0\n",
            "3 12.5\n",
            "4 15.0\n",
            "5 17.5\n",
            "6 20.0\n",
            "7 20.0\n",
            "8 20.0\n"
          ]
        }
      ]
    },
    {
      "cell_type": "code",
      "source": [
        "import math\n",
        "\n",
        "for advertisingDollars in range(0,201,25):\n",
        "    revenue = (20 + 2 * round(advertisingDollars**0.5))*10\n",
        "    cost = 200 + advertisingDollars\n",
        "    profits = revenue - cost\n",
        "    print(advertisingDollars, '\\t', profits)"
      ],
      "metadata": {
        "colab": {
          "base_uri": "https://localhost:8080/"
        },
        "id": "pyD564bmeMPg",
        "outputId": "c12358b2-bd2f-48fb-8a06-c0513161b8fa"
      },
      "execution_count": null,
      "outputs": [
        {
          "output_type": "stream",
          "name": "stdout",
          "text": [
            "0 \t 0\n",
            "25 \t 75\n",
            "50 \t 90\n",
            "75 \t 105\n",
            "100 \t 100\n",
            "125 \t 95\n",
            "150 \t 90\n",
            "175 \t 85\n",
            "200 \t 80\n"
          ]
        }
      ]
    },
    {
      "cell_type": "markdown",
      "source": [
        "[link text](https://)"
      ],
      "metadata": {
        "id": "89-67aEWp7y-"
      }
    }
  ]
}