{
  "nbformat": 4,
  "nbformat_minor": 0,
  "metadata": {
    "colab": {
      "provenance": [],
      "authorship_tag": "ABX9TyPNQ7eBtU4UHhThlJZJhiZh",
      "include_colab_link": true
    },
    "kernelspec": {
      "name": "python3",
      "display_name": "Python 3"
    },
    "language_info": {
      "name": "python"
    }
  },
  "cells": [
    {
      "cell_type": "markdown",
      "metadata": {
        "id": "view-in-github",
        "colab_type": "text"
      },
      "source": [
        "<a href=\"https://colab.research.google.com/github/Henryhouu/Test/blob/main/inclassAssginment.ipynb\" target=\"_parent\"><img src=\"https://colab.research.google.com/assets/colab-badge.svg\" alt=\"Open In Colab\"/></a>"
      ]
    },
    {
      "cell_type": "code",
      "execution_count": null,
      "metadata": {
        "colab": {
          "base_uri": "https://localhost:8080/"
        },
        "id": "YxOq6_1Io-Ff",
        "outputId": "24f53ec8-9f1b-49a7-8ad0-4d91ea2d3949"
      },
      "outputs": [
        {
          "output_type": "stream",
          "name": "stdout",
          "text": [
            "please provide the radius: 9\n",
            "please provide the height: 9\n",
            "Area of cylinder: 1017.36 sq.ft\n"
          ]
        }
      ],
      "source": [
        "R = float(input('please provide the radius: '))\n",
        "h = float(input('please provide the height: '))\n",
        "π = 3.14\n",
        "A = 2*π*R**2 + 2*π*R*h\n",
        "print(f\"Area of cylinder: {A} sq.ft\")"
      ]
    },
    {
      "cell_type": "code",
      "source": [
        "n1 = float(input('Put in your number n1: '))\n",
        "n2 = float(input('Put in your number n2: '))\n",
        "symbol = input('Put a symbol btween two number: ')\n",
        "\n",
        "if symbol == '+':\n",
        "\tprint(f'{n1} + {n2} = {n1 + n2}')\n",
        "elif symbol == '-':\n",
        "\tprint(f'{n1} - {n2} = {n1 - n2}')\n",
        "elif symbol == '*:':\n",
        "\tprint(f'{n1} * {n2} = {n1 * n2}')\n",
        "elif symbbol == '//':\n",
        "\tprint(f'{n1} // {n2} = {n1 // n2}')\n",
        "elif symbol == '**':\n",
        "\tprint(f'{n1} ** {n2} = {n1 ** n2}')\n",
        "elif symbbol == '%':\n",
        "\tprint(f'{n1} % {n2} = {n1 % n2}')\n",
        "else:\n",
        "\tprint('invalid symbol')\n"
      ],
      "metadata": {
        "colab": {
          "base_uri": "https://localhost:8080/"
        },
        "id": "z3ll5DxNEU4B",
        "outputId": "9a5a7873-03e4-4759-a506-83b8b1a8afb6"
      },
      "execution_count": null,
      "outputs": [
        {
          "output_type": "stream",
          "name": "stdout",
          "text": [
            "Put in your number n1: 8\n",
            "Put in your number n2: 8\n",
            "Put a symbol btween two number: -\n",
            "8.0 - 8.0 = 0.0\n"
          ]
        }
      ]
    },
    {
      "cell_type": "code",
      "source": [
        "for numberHours in range(1,9):\n",
        "    fee = 5 + 2.5 * numberHours\n",
        "    if fee < 10:\n",
        "      fee = 10.0\n",
        "    elif fee > 20 :\n",
        "        fee = 20.0\n",
        "    print(numberHours, fee)"
      ],
      "metadata": {
        "colab": {
          "base_uri": "https://localhost:8080/"
        },
        "id": "mIW19XoiXnL_",
        "outputId": "e4e2e8d8-1b40-420c-84eb-a9fc54644bd8"
      },
      "execution_count": null,
      "outputs": [
        {
          "output_type": "stream",
          "name": "stdout",
          "text": [
            "1 10.0\n",
            "2 10.0\n",
            "3 12.5\n",
            "4 15.0\n",
            "5 17.5\n",
            "6 20.0\n",
            "7 20.0\n",
            "8 20.0\n"
          ]
        }
      ]
    },
    {
      "cell_type": "code",
      "source": [
        "import math\n",
        "\n",
        "for advertisingDollars in range(0,201,25):\n",
        "    revenue = (20 + 2 * round(advertisingDollars**0.5))*10\n",
        "    cost = 200 + advertisingDollars\n",
        "    profits = revenue - cost\n",
        "    print(advertisingDollars, '\\t', profits)"
      ],
      "metadata": {
        "colab": {
          "base_uri": "https://localhost:8080/"
        },
        "id": "pyD564bmeMPg",
        "outputId": "c12358b2-bd2f-48fb-8a06-c0513161b8fa"
      },
      "execution_count": null,
      "outputs": [
        {
          "output_type": "stream",
          "name": "stdout",
          "text": [
            "0 \t 0\n",
            "25 \t 75\n",
            "50 \t 90\n",
            "75 \t 105\n",
            "100 \t 100\n",
            "125 \t 95\n",
            "150 \t 90\n",
            "175 \t 85\n",
            "200 \t 80\n"
          ]
        }
      ]
    },
    {
      "cell_type": "markdown",
      "source": [
        "[link text](https://)"
      ],
      "metadata": {
        "id": "89-67aEWp7y-"
      }
    },
    {
      "cell_type": "code",
      "source": [
        "#given an empty list, design a program in python that populates the list by repeating ask the user for numerical inputs.\n",
        "#The process stop when users gives 0. Finally, the list should be display in descending order\n",
        "\n",
        "numbers = []\n",
        "\n",
        "while True:\n",
        "  num = float(input('Given a number: '))\n",
        "  if num == 0.0:\n",
        "    break\n",
        "  numbers.append(num)\n",
        "\n",
        "numbers.sort(reverse=True)\n",
        "print(numbers)"
      ],
      "metadata": {
        "colab": {
          "base_uri": "https://localhost:8080/"
        },
        "id": "rmeoJm_YPFGf",
        "outputId": "6329de7a-fc3f-4e61-ddfa-a2112043c772"
      },
      "execution_count": null,
      "outputs": [
        {
          "output_type": "stream",
          "name": "stdout",
          "text": [
            "Given a number: 3\n",
            "Given a number: 4\n",
            "Given a number: 5\n",
            "Given a number: 1\n",
            "Given a number: 0\n",
            "[5.0, 4.0, 3.0, 1.0]\n"
          ]
        }
      ]
    },
    {
      "cell_type": "markdown",
      "source": [],
      "metadata": {
        "id": "ix-fieeiVjTi"
      }
    },
    {
      "cell_type": "code",
      "source": [
        "L1 = [1,2,3,4]\n",
        "L2 = [1,2,4,7]\n",
        "\n",
        "for item in L1[:]:\n",
        "  if item in L2:\n",
        "    L1.remove(item)\n",
        "\n",
        "L1"
      ],
      "metadata": {
        "colab": {
          "base_uri": "https://localhost:8080/"
        },
        "id": "V7io62-BUtFR",
        "outputId": "0d531cb2-bbc5-443e-aa22-cb153c12c045"
      },
      "execution_count": null,
      "outputs": [
        {
          "output_type": "execute_result",
          "data": {
            "text/plain": [
              "[3]"
            ]
          },
          "metadata": {},
          "execution_count": 23
        }
      ]
    },
    {
      "cell_type": "code",
      "source": [
        "months = {}\n",
        "\n",
        "names = [\"Jan\", \"Feb\", \"Mar\", \"Apr\", \"May\", \"Jun\", \"Jul\", \"Aug\", \"Sep\", \"Oct\", \"Nov\", \"Dec\"]\n",
        "numbers = [1,2,3,4,5,6,7,8,9,10,11,12]\n"
      ],
      "metadata": {
        "id": "K83dXrk9xk9N"
      },
      "execution_count": 21,
      "outputs": []
    },
    {
      "cell_type": "code",
      "source": [
        "for i in range(len(numbers)):\n",
        "  months[numbers[i]] = names[i]\n",
        "months"
      ],
      "metadata": {
        "colab": {
          "base_uri": "https://localhost:8080/"
        },
        "collapsed": true,
        "id": "DB1Pz0xlyPYq",
        "outputId": "b5fce9dd-58cf-46fa-e61c-344b7a3db6fb"
      },
      "execution_count": 22,
      "outputs": [
        {
          "output_type": "execute_result",
          "data": {
            "text/plain": [
              "{1: 'Jan',\n",
              " 2: 'Feb',\n",
              " 3: 'Mar',\n",
              " 4: 'Apr',\n",
              " 5: 'May',\n",
              " 6: 'Jun',\n",
              " 7: 'Jul',\n",
              " 8: 'Aug',\n",
              " 9: 'Sep',\n",
              " 10: 'Oct',\n",
              " 11: 'Nov',\n",
              " 12: 'Dec'}"
            ]
          },
          "metadata": {},
          "execution_count": 22
        }
      ]
    },
    {
      "cell_type": "code",
      "source": [
        "for num in numbers:\n",
        "  months[num] = names[num - 1]\n",
        "months"
      ],
      "metadata": {
        "colab": {
          "base_uri": "https://localhost:8080/"
        },
        "collapsed": true,
        "id": "jbLpGLy42wNU",
        "outputId": "6d4cc5dc-383d-4e42-bc18-89ebd22aa5ae"
      },
      "execution_count": 25,
      "outputs": [
        {
          "output_type": "execute_result",
          "data": {
            "text/plain": [
              "{1: 'Jan',\n",
              " 2: 'Feb',\n",
              " 3: 'Mar',\n",
              " 4: 'Apr',\n",
              " 5: 'May',\n",
              " 6: 'Jun',\n",
              " 7: 'Jul',\n",
              " 8: 'Aug',\n",
              " 9: 'Sep',\n",
              " 10: 'Oct',\n",
              " 11: 'Nov',\n",
              " 12: 'Dec'}"
            ]
          },
          "metadata": {},
          "execution_count": 25
        }
      ]
    },
    {
      "cell_type": "code",
      "source": [
        "counts = {}\n",
        "\n",
        "while len(counts) < 5:\n",
        "  key = input(\"Give a string: \")\n",
        "\n",
        "  if key not in counts:\n",
        "    counts[key] = 1\n",
        "  else:\n",
        "    counts[key] = counts[key] + 1\n",
        "\n",
        "counts"
      ],
      "metadata": {
        "colab": {
          "base_uri": "https://localhost:8080/"
        },
        "id": "JU9msiM64ucn",
        "outputId": "4dd5058a-2c95-45d3-9153-629421005f63"
      },
      "execution_count": 26,
      "outputs": [
        {
          "name": "stdout",
          "output_type": "stream",
          "text": [
            "Give a string: a\n",
            "Give a string: b\n",
            "Give a string: a\n",
            "Give a string: d\n",
            "Give a string: c\n",
            "Give a string: c\n",
            "Give a string: a\n",
            "Give a string: c\n",
            "Give a string: b\n",
            "Give a string: e\n"
          ]
        },
        {
          "output_type": "execute_result",
          "data": {
            "text/plain": [
              "{'a': 3, 'b': 2, 'd': 1, 'c': 3, 'e': 1}"
            ]
          },
          "metadata": {},
          "execution_count": 26
        }
      ]
    }
  ]
}