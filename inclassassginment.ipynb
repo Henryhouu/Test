{
  "nbformat": 4,
  "nbformat_minor": 0,
  "metadata": {
    "colab": {
      "provenance": [],
      "authorship_tag": "ABX9TyObAP2NI5Z6RitgGsNowFR3",
      "include_colab_link": true
    },
    "kernelspec": {
      "name": "python3",
      "display_name": "Python 3"
    },
    "language_info": {
      "name": "python"
    }
  },
  "cells": [
    {
      "cell_type": "markdown",
      "metadata": {
        "id": "view-in-github",
        "colab_type": "text"
      },
      "source": [
        "<a href=\"https://colab.research.google.com/github/Henryhouu/Test/blob/main/inclassassginment.ipynb\" target=\"_parent\"><img src=\"https://colab.research.google.com/assets/colab-badge.svg\" alt=\"Open In Colab\"/></a>"
      ]
    },
    {
      "cell_type": "code",
      "execution_count": null,
      "metadata": {
        "colab": {
          "base_uri": "https://localhost:8080/"
        },
        "id": "YxOq6_1Io-Ff",
        "outputId": "24f53ec8-9f1b-49a7-8ad0-4d91ea2d3949"
      },
      "outputs": [
        {
          "output_type": "stream",
          "name": "stdout",
          "text": [
            "please provide the radius: 9\n",
            "please provide the height: 9\n",
            "Area of cylinder: 1017.36 sq.ft\n"
          ]
        }
      ],
      "source": [
        "R = float(input('please provide the radius: '))\n",
        "h = float(input('please provide the height: '))\n",
        "π = 3.14\n",
        "A = 2*π*R**2 + 2*π*R*h\n",
        "print(f\"Area of cylinder: {A} sq.ft\")"
      ]
    },
    {
      "cell_type": "markdown",
      "source": [
        "[link text](https://)"
      ],
      "metadata": {
        "id": "89-67aEWp7y-"
      }
    }
  ]
}