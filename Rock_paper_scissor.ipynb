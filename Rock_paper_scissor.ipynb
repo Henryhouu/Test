{
  "nbformat": 4,
  "nbformat_minor": 0,
  "metadata": {
    "colab": {
      "provenance": [],
      "authorship_tag": "ABX9TyNEOLoEe1CqXJS4NeC6aBd6",
      "include_colab_link": true
    },
    "kernelspec": {
      "name": "python3",
      "display_name": "Python 3"
    },
    "language_info": {
      "name": "python"
    }
  },
  "cells": [
    {
      "cell_type": "markdown",
      "metadata": {
        "id": "view-in-github",
        "colab_type": "text"
      },
      "source": [
        "<a href=\"https://colab.research.google.com/github/Henryhouu/Test/blob/main/Rock_paper_scissor.ipynb\" target=\"_parent\"><img src=\"https://colab.research.google.com/assets/colab-badge.svg\" alt=\"Open In Colab\"/></a>"
      ]
    },
    {
      "cell_type": "code",
      "execution_count": null,
      "metadata": {
        "colab": {
          "base_uri": "https://localhost:8080/"
        },
        "id": "NM00F64zH3u7",
        "outputId": "9da9fd58-fbae-4b25-a50f-eabc4a7f1291"
      },
      "outputs": [
        {
          "output_type": "stream",
          "name": "stdout",
          "text": [
            "Player 1: Please choose Rock, Paper or Scissors: Sissors\n",
            "Player 2: Please choose Rock, Paper or Scissors: Paper\n",
            "Enter wrongly\n"
          ]
        }
      ],
      "source": [
        "player1 = input('Player 1: Please choose Rock, Paper or Scissors: ')\n",
        "player2 = input('Player 2: Please choose Rock, Paper or Scissors: ')\n",
        "\n",
        "if player1 == 'Rock':\n",
        "    if player2 == 'Scissors':\n",
        "      print('player 1 WON')\n",
        "    elif player2 == 'Paper':\n",
        "      print('player 2 WON')\n",
        "    else:\n",
        "      print('TIE')\n",
        "\n",
        "elif player1 == 'Paper':\n",
        "    if player2 == 'Scissors':\n",
        "      print('player 2 WON')\n",
        "    elif player2 == 'Rock':\n",
        "      print('player 1 WON')\n",
        "    else:\n",
        "      print('TIE')\n",
        "\n",
        "elif player1 == 'Scissors':\n",
        "    if player2 == 'Rock':\n",
        "      print('player 2 WON')\n",
        "    elif player2 == 'Paper':\n",
        "      print('player 1 WON')\n",
        "    else:\n",
        "      print('TIE')\n",
        "\n",
        "else:\n",
        "  print('Enter wrongly')"
      ]
    },
    {
      "cell_type": "code",
      "source": [
        "play = input('Do you want to play a game (yes/no)?')\n",
        "\n",
        "while play == 'yes':\n",
        "  p1 = input('Player 1 - Choose between rock/paper/scissors: ')\n",
        "  p2 = input('Player 2 - Choose between rock/paper/scissors: ')\n",
        "\n",
        "  if p1 == p2:\n",
        "    print('Draw')\n",
        "  elif p1 == 'Rock' and p2 == 'Scissors':\n",
        "    print('Player 1 wins!')\n",
        "  elif p1 == 'Scissors' and p2 == 'Paper':\n",
        "    print('Player 1 wins!')\n",
        "  elif p1 == 'Paper' and p2 == 'Rock':\n",
        "    print('Player 1 wins!')\n",
        "  else:\n",
        "    print('Player 2 wins!')\n",
        "\n",
        "  play = input('Do you want to play an another game (yes/no)?')\n",
        "print('Good day...')"
      ],
      "metadata": {
        "id": "7ll4K3YSJt0e"
      },
      "execution_count": null,
      "outputs": []
    },
    {
      "cell_type": "code",
      "source": [
        "import random\n",
        "\n",
        "play = input('Do you want to play a game (yes/no)?').capitalize()\n",
        "\n",
        "while play == 'Yes':\n",
        "  p1 = input('Player 1 - Choose between rock/paper/scissors: ').capitalize()\n",
        "  p2 = random.choice(['rock','paper','scissors']).capitalize()\n",
        "\n",
        "  print(f'player choose{p1}; computer choose{p2}')\n",
        "  if p1 == p2:\n",
        "    print('Draw')\n",
        "  elif ((p1 == 'Rock' and p2 == 'Scissors') or (p1 == 'Scissors' and p2 == 'Paper') or (p1 == 'Paper' and p2 == 'Rock')):\n",
        "    print('Player wins!')\n",
        "  else:\n",
        "    print('Computer wins!')\n",
        "\n",
        "  play = input('Do you want to play an another game (yes/no)?').capitalize()\n",
        "print('Good day...')"
      ],
      "metadata": {
        "id": "1zUb-ny6QG1B",
        "colab": {
          "base_uri": "https://localhost:8080/"
        },
        "outputId": "5fddc801-e3c3-4b35-d3f5-50698d914f94"
      },
      "execution_count": 5,
      "outputs": [
        {
          "output_type": "stream",
          "name": "stdout",
          "text": [
            "Do you want to play a game (yes/no)?yes\n",
            "Player 1 - Choose between rock/paper/scissors: rock\n",
            "player chooseRock; computer choosePaper\n",
            "Computer wins!\n",
            "Do you want to play an another game (yes/no)?no\n",
            "Good day...\n"
          ]
        }
      ]
    }
  ]
}